{
 "cells": [
  {
   "cell_type": "markdown",
   "id": "0866a5da",
   "metadata": {},
   "source": [
    "# 💉​💊​ Prédiction du Risque de Diabète par Analyse Clinique et Modèles d'Apprentissage Automatique\n"
   ]
  },
  {
   "cell_type": "markdown",
   "id": "8e111ecc",
   "metadata": {},
   "source": [
    "## Les critères cliniques tels que : \n",
    "- glycémie (Glucose)\n",
    "- la pression artérielle (Blood Pressure)\n",
    "- l’épaisseur du pli cutané (Skin Thickness)\n",
    "- l’insuline (Insulin)\n",
    "- l’Indice de Masse Corporelle (BMI)\n",
    "- la fonction de prédisposition génétique au diabète (Diabetes Pedigree Function) \n",
    "- l’âge (Age)."
   ]
  },
  {
   "cell_type": "markdown",
   "id": "77ea3c1f",
   "metadata": {},
   "source": [
    "## ​✅​ Objective\n",
    "* Entraîner et déployer un modèle d’intelligence artificielle capable de classer les patients selon leur risque de diabète \n",
    "* Regrouper (clustering) les données brutes afin d’identifier des profils ou comportements similaires au sein de la population étudiée.\n",
    "\n"
   ]
  },
  {
   "cell_type": "markdown",
   "id": "e0637eb2",
   "metadata": {},
   "source": [
    "# 📚​ Bibliothèques"
   ]
  },
  {
   "cell_type": "code",
   "execution_count": 1,
   "id": "e5f36aee",
   "metadata": {},
   "outputs": [],
   "source": [
    "import pandas as pd\n",
    "import numpy as np\n"
   ]
  },
  {
   "cell_type": "markdown",
   "id": "1d246d44",
   "metadata": {},
   "source": [
    "#  1️⃣ Etape 1: Chargement des données"
   ]
  },
  {
   "cell_type": "code",
   "execution_count": 9,
   "id": "f542f23d",
   "metadata": {},
   "outputs": [
    {
     "data": {
      "text/html": [
       "<div>\n",
       "<style scoped>\n",
       "    .dataframe tbody tr th:only-of-type {\n",
       "        vertical-align: middle;\n",
       "    }\n",
       "\n",
       "    .dataframe tbody tr th {\n",
       "        vertical-align: top;\n",
       "    }\n",
       "\n",
       "    .dataframe thead th {\n",
       "        text-align: right;\n",
       "    }\n",
       "</style>\n",
       "<table border=\"1\" class=\"dataframe\">\n",
       "  <thead>\n",
       "    <tr style=\"text-align: right;\">\n",
       "      <th></th>\n",
       "      <th>Unnamed: 0</th>\n",
       "      <th>Pregnancies</th>\n",
       "      <th>Glucose</th>\n",
       "      <th>BloodPressure</th>\n",
       "      <th>SkinThickness</th>\n",
       "      <th>Insulin</th>\n",
       "      <th>BMI</th>\n",
       "      <th>DiabetesPedigreeFunction</th>\n",
       "      <th>Age</th>\n",
       "    </tr>\n",
       "  </thead>\n",
       "  <tbody>\n",
       "    <tr>\n",
       "      <th>0</th>\n",
       "      <td>0</td>\n",
       "      <td>6</td>\n",
       "      <td>148</td>\n",
       "      <td>72</td>\n",
       "      <td>35</td>\n",
       "      <td>0</td>\n",
       "      <td>33.6</td>\n",
       "      <td>0.627</td>\n",
       "      <td>50</td>\n",
       "    </tr>\n",
       "    <tr>\n",
       "      <th>1</th>\n",
       "      <td>1</td>\n",
       "      <td>1</td>\n",
       "      <td>85</td>\n",
       "      <td>66</td>\n",
       "      <td>29</td>\n",
       "      <td>0</td>\n",
       "      <td>26.6</td>\n",
       "      <td>0.351</td>\n",
       "      <td>31</td>\n",
       "    </tr>\n",
       "    <tr>\n",
       "      <th>2</th>\n",
       "      <td>2</td>\n",
       "      <td>8</td>\n",
       "      <td>183</td>\n",
       "      <td>64</td>\n",
       "      <td>0</td>\n",
       "      <td>0</td>\n",
       "      <td>23.3</td>\n",
       "      <td>0.672</td>\n",
       "      <td>32</td>\n",
       "    </tr>\n",
       "    <tr>\n",
       "      <th>3</th>\n",
       "      <td>3</td>\n",
       "      <td>1</td>\n",
       "      <td>89</td>\n",
       "      <td>66</td>\n",
       "      <td>23</td>\n",
       "      <td>94</td>\n",
       "      <td>28.1</td>\n",
       "      <td>0.167</td>\n",
       "      <td>21</td>\n",
       "    </tr>\n",
       "    <tr>\n",
       "      <th>4</th>\n",
       "      <td>4</td>\n",
       "      <td>0</td>\n",
       "      <td>137</td>\n",
       "      <td>40</td>\n",
       "      <td>35</td>\n",
       "      <td>168</td>\n",
       "      <td>43.1</td>\n",
       "      <td>2.288</td>\n",
       "      <td>33</td>\n",
       "    </tr>\n",
       "  </tbody>\n",
       "</table>\n",
       "</div>"
      ],
      "text/plain": [
       "   Unnamed: 0  Pregnancies  Glucose  BloodPressure  SkinThickness  Insulin  \\\n",
       "0           0            6      148             72             35        0   \n",
       "1           1            1       85             66             29        0   \n",
       "2           2            8      183             64              0        0   \n",
       "3           3            1       89             66             23       94   \n",
       "4           4            0      137             40             35      168   \n",
       "\n",
       "    BMI  DiabetesPedigreeFunction  Age  \n",
       "0  33.6                     0.627   50  \n",
       "1  26.6                     0.351   31  \n",
       "2  23.3                     0.672   32  \n",
       "3  28.1                     0.167   21  \n",
       "4  43.1                     2.288   33  "
      ]
     },
     "execution_count": 9,
     "metadata": {},
     "output_type": "execute_result"
    }
   ],
   "source": [
    "# Importer les données à l’aide de pandas. Vérifier le type et la structure des colonnes (df.info() et df.head()).\n",
    "df = pd.read_csv('dataset.csv')\n",
    "#Affichage de 5 premier ligne\n",
    "df.head()\n"
   ]
  },
  {
   "cell_type": "code",
   "execution_count": 20,
   "id": "dc1b30ed",
   "metadata": {},
   "outputs": [
    {
     "name": "stdout",
     "output_type": "stream",
     "text": [
      "<class 'pandas.core.frame.DataFrame'>\n",
      "RangeIndex: 768 entries, 0 to 767\n",
      "Data columns (total 9 columns):\n",
      " #   Column                    Non-Null Count  Dtype  \n",
      "---  ------                    --------------  -----  \n",
      " 0   Unnamed: 0                768 non-null    int64  \n",
      " 1   Pregnancies               768 non-null    int64  \n",
      " 2   Glucose                   768 non-null    int64  \n",
      " 3   BloodPressure             768 non-null    int64  \n",
      " 4   SkinThickness             768 non-null    int64  \n",
      " 5   Insulin                   768 non-null    int64  \n",
      " 6   BMI                       768 non-null    float64\n",
      " 7   DiabetesPedigreeFunction  768 non-null    float64\n",
      " 8   Age                       768 non-null    int64  \n",
      "dtypes: float64(2), int64(7)\n",
      "memory usage: 54.1 KB\n",
      "None\n"
     ]
    }
   ],
   "source": [
    "#Analyser les types de colonnes et dimensions \n",
    "print(df.info())\n"
   ]
  },
  {
   "cell_type": "markdown",
   "id": "a8d117b7",
   "metadata": {},
   "source": [
    "# ⭐​ Conclusion :\n",
    "\n",
    "Ce dataset contient 768 entrées complètes (sans valeurs manquantes) avec des types numériques (int et float), idéales pour l'analyse et la modélisation."
   ]
  },
  {
   "cell_type": "code",
   "execution_count": 22,
   "id": "fe618251",
   "metadata": {},
   "outputs": [
    {
     "name": "stdout",
     "output_type": "stream",
     "text": [
      "la data contiene 9 Collone et 768 ligne\n"
     ]
    }
   ],
   "source": [
    "# le nombre de collonne et des ligne \n",
    "print(f'la data contiene {df.shape[1]} Collone et {df.shape[0]} ligne')"
   ]
  },
  {
   "cell_type": "code",
   "execution_count": null,
   "id": "394a1177",
   "metadata": {},
   "outputs": [],
   "source": []
  }
 ],
 "metadata": {
  "kernelspec": {
   "display_name": "Python 3",
   "language": "python",
   "name": "python3"
  },
  "language_info": {
   "codemirror_mode": {
    "name": "ipython",
    "version": 3
   },
   "file_extension": ".py",
   "mimetype": "text/x-python",
   "name": "python",
   "nbconvert_exporter": "python",
   "pygments_lexer": "ipython3",
   "version": "3.13.5"
  }
 },
 "nbformat": 4,
 "nbformat_minor": 5
}
